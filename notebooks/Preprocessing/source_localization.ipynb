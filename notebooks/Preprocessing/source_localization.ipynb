{
 "cells": [
  {
   "cell_type": "markdown",
   "id": "2947c985-edb4-4e37-ac38-e2abc335d541",
   "metadata": {
    "tags": []
   },
   "source": [
    "## Compute source time course (STC) from Raw and Epochs data object and save as pickle for later analyses\n",
    "#### Input: *_eyes_open-raw.fif, *_eyes_closed-raw.fif, *-epo.fif\n",
    "####  Output: *_label_ts.pkl"
   ]
  },
  {
   "cell_type": "code",
   "execution_count": 1,
   "id": "93bc0409-9fd5-479d-8dde-25a747c13efe",
   "metadata": {
    "scrolled": true,
    "tags": []
   },
   "outputs": [
    {
     "name": "stdout",
     "output_type": "stream",
     "text": [
      "0 files missing from root.txt in /home/wanglab/mne_data/MNE-fsaverage-data\n",
      "0 files missing from bem.txt in /home/wanglab/mne_data/MNE-fsaverage-data/fsaverage\n"
     ]
    }
   ],
   "source": [
    "import os\n",
    "from pathlib import Path\n",
    "import sys\n",
    "sys.path.append('/home/wanglab/Documents/George Kenefati/Code/eeg_toolkit/')\n",
    "from eeg_toolkit import utils, preprocess\n",
    "from eeg_toolkit import source_localization as sl"
   ]
  },
  {
   "cell_type": "markdown",
   "id": "a6196feb",
   "metadata": {},
   "source": [
    "### Paths"
   ]
  },
  {
   "cell_type": "code",
   "execution_count": 2,
   "id": "4b57e63e",
   "metadata": {},
   "outputs": [
    {
     "name": "stdout",
     "output_type": "stream",
     "text": [
      "[-2.5,0.0,2.5]\n"
     ]
    }
   ],
   "source": [
    "# Time window for source localization computation\n",
    "times_tup,time_win_path = preprocess.get_time_window(5)\n",
    "\n",
    "# Average dipoles, always true unless you have subject-specific MRI and know what you're doing\n",
    "average_dipoles = True\n",
    "\n",
    "# Save inverse. True if you want to plot the brain model with AEC connectivity\n",
    "save_inv = True"
   ]
  },
  {
   "cell_type": "code",
   "execution_count": 3,
   "id": "842b367f-9d3c-4436-868f-6fb7ffe7b719",
   "metadata": {},
   "outputs": [],
   "source": [
    "# Read in processed raw data\n",
    "data_dir = Path(\"../../Data\")\n",
    "processed_data_path = data_dir / 'Processed Data'\n",
    "epo_path = data_dir / time_win_path"
   ]
  },
  {
   "cell_type": "markdown",
   "id": "3b38c500",
   "metadata": {},
   "source": [
    "### Subject IDs"
   ]
  },
  {
   "cell_type": "code",
   "execution_count": 4,
   "id": "6525eacb-e00a-4c11-aad8-c3086d8b6a48",
   "metadata": {},
   "outputs": [
    {
     "name": "stdout",
     "output_type": "stream",
     "text": [
      "['018', '020', '021', '022', '023', '024', '027', '029', '030', '031', '032', '033', '034', '035', '036', '037', '038', '039', '040', '041', '042', '043', '044', '045', '046', '048', '049', '050', '051', '052', '053', '054', '055', '056', '057', '058', '059', 'C1.', 'C2.', 'C3.', 'C5.', 'C6.', 'C7.', 'C8.', 'C9.', 'C10', 'C11', 'C12', 'C13', 'C14', 'C15', 'C16', 'C17', 'C18', 'C19', 'C20', 'C21', 'C22', 'C24', 'C25', 'C26', 'C27']\n"
     ]
    }
   ],
   "source": [
    "# viable subjects\n",
    "sub_ids = utils.import_subs(os.path.join(data_dir),'sub_ids.txt')\n",
    "# select only 64ch subs and turn into set\n",
    "sub_ids = sub_ids[7:]\n",
    "print(sub_ids)"
   ]
  },
  {
   "cell_type": "code",
   "execution_count": 5,
   "id": "efbb08ac",
   "metadata": {},
   "outputs": [],
   "source": [
    "# All CP and HC subs\n",
    "sub_ids_CP = [  \n",
    "    '018',  \n",
    "    '020',  \n",
    "    '021',  \n",
    "    '027',  \n",
    "    '031',  \n",
    "    '032',  \n",
    "    '033',  \n",
    "    '035',  \n",
    "    '036',  \n",
    "    '037',  \n",
    "    '038',  \n",
    "    '040',  \n",
    "    '043',  \n",
    "    '044',  \n",
    "    '048',  \n",
    "    '049',  \n",
    "    '050',  \n",
    "    '057',  \n",
    "    '059',\n",
    "]\n",
    "\n",
    "sub_ids_HC = [\n",
    "    'C10',  \n",
    "    'C11',  \n",
    "    'C12',  \n",
    "    'C13',  \n",
    "    'C14',  \n",
    "    'C15',  \n",
    "    'C16',  \n",
    "    'C17',  \n",
    "    'C18',  \n",
    "    'C19',  \n",
    "    'C2.',  \n",
    "    'C24',  \n",
    "    'C25',  \n",
    "    'C26',  \n",
    "    'C27',  \n",
    "    'C3.',  \n",
    "    'C6.',  \n",
    "    'C7.',  \n",
    "    'C9.'   \n",
    "]\n",
    " \n",
    "\n",
    "# CP Subs with widespread pain\n",
    "sub_ids_WSP = [\n",
    "    '018',\n",
    "    '022',\n",
    "    '024',\n",
    "    '031',\n",
    "    '032',\n",
    "    '034',\n",
    "    '036',\n",
    "    '039',\n",
    "    '040',\n",
    "    '045',\n",
    "    '046',\n",
    "    '052',\n",
    "]\n",
    "\n",
    "# CP Subs with localized pain\n",
    "sub_ids_LP = [  \n",
    "    '020',  \n",
    "    '021',  \n",
    "    '023',  \n",
    "    '029',  \n",
    "    '031',  \n",
    "    '037',  \n",
    "    '041',  \n",
    "    '042',  \n",
    "    '048',  \n",
    "    '049',  \n",
    "    '050',  \n",
    "    '056'  \n",
    "]  \n",
    "\n",
    " \n",
    "sub_ids = sub_ids_CP + sub_ids_HC + sub_ids_WSP + sub_ids_LP\n",
    "\n",
    "# keep only unique\n",
    "sub_ids = list(set(sub_ids))"
   ]
  },
  {
   "cell_type": "code",
   "execution_count": 6,
   "id": "7c3a8fdb-dbfa-42b6-907d-88061fab5ea5",
   "metadata": {},
   "outputs": [
    {
     "name": "stdout",
     "output_type": "stream",
     "text": [
      "Chronics: 31\n",
      "Controls: 19\n",
      "Total: 50\n"
     ]
    }
   ],
   "source": [
    "print(f\"Chronics: {len([el for el in sub_ids if el.startswith('0')])}\")\n",
    "print(f\"Controls: {len([el for el in sub_ids if el.startswith('C')])}\")\n",
    "print(f\"Total: {len(sub_ids)}\")"
   ]
  },
  {
   "cell_type": "markdown",
   "id": "334c6e28",
   "metadata": {},
   "source": [
    "#### Look for subjects who do not have EO or EC cropped data"
   ]
  },
  {
   "cell_type": "code",
   "execution_count": 7,
   "id": "e89000a3",
   "metadata": {},
   "outputs": [
    {
     "name": "stdout",
     "output_type": "stream",
     "text": [
      "[]\n",
      "[]\n"
     ]
    }
   ],
   "source": [
    "# For edge cases of subjects missing eyes open or eyes closed data\n",
    "no_eyes_open = []\n",
    "no_eyes_closed = []\n",
    "\n",
    "for sub_id in sub_ids:\n",
    "    if not os.path.exists(os.path.join(processed_data_path, f\"{sub_id}_eyes_closed-raw.fif\")):\n",
    "        no_eyes_closed.append(sub_id)\n",
    "        print(f\"Subject: {sub_id} missing eyes closed data\")\n",
    "    if not os.path.exists(os.path.join(processed_data_path, f\"{sub_id}_eyes_open-raw.fif\")):\n",
    "        no_eyes_open.append(sub_id)\n",
    "        print(f\"Subject: {sub_id} missing eyes open data\")\n",
    "        \n",
    "print(no_eyes_open)\n",
    "print(no_eyes_closed)"
   ]
  },
  {
   "cell_type": "code",
   "execution_count": 8,
   "id": "168d00bf-c009-4143-a71d-c7c200ba148b",
   "metadata": {
    "tags": []
   },
   "outputs": [],
   "source": [
    "# Get stc only from selected labels\n",
    "roi_names = [# Left\n",
    "             'rostralanteriorcingulate-lh', # Left Rostral ACC\n",
    "             'caudalanteriorcingulate-lh', # Left Caudal ACC\n",
    "             'postcentral-lh', # Left S1,\n",
    "             'insula-lh', 'superiorfrontal-lh', # Left Insula, Left DL-PFC,\n",
    "             'medialorbitofrontal-lh', # Left Medial-OFC\n",
    "            #  # CONTROLS\n",
    "            #  lateral occipital\n",
    "            #  'lateraloccipital-lh', # Left Visual Cortex\n",
    "            #  'superiortemporal-lh', # Left Auditory Cortex\n",
    "             # Right\n",
    "             'rostralanteriorcingulate-rh', # Right Rostral ACC\n",
    "             'caudalanteriorcingulate-rh', # Right Caudal ACC\n",
    "             'postcentral-rh', # , Right S1\n",
    "             'insula-rh', 'superiorfrontal-rh', # Right Insula, Right DL-PFC\n",
    "             'medialorbitofrontal-rh', # Right Medial-OFC\n",
    "            #  # CONTROLS\n",
    "            #  'lateraloccipital-rh', # Right Visual Cortex\n",
    "            #  'superiortemporal-rh', # Right Auditory Cortex\n",
    "]"
   ]
  },
  {
   "cell_type": "markdown",
   "id": "03df3db5",
   "metadata": {},
   "source": [
    "### Compute STCs"
   ]
  },
  {
   "cell_type": "code",
   "execution_count": 9,
   "id": "88cd3e86",
   "metadata": {},
   "outputs": [],
   "source": [
    "sub_ids = ['046']"
   ]
  },
  {
   "cell_type": "code",
   "execution_count": 11,
   "id": "80ffacc1",
   "metadata": {},
   "outputs": [
    {
     "name": "stdout",
     "output_type": "stream",
     "text": [
      "Saved 046_inv.pkl to ../../Data/Source Time Courses (MNE) 046/zscored_Epochs/5_sec_time_window.\n"
     ]
    }
   ],
   "source": [
    "nan_subjects=[]\n",
    "\n",
    "methods = [\n",
    "    'MNE',\n",
    "    # 'dSPM',\n",
    "    ]\n",
    "\n",
    "for sub_id in sub_ids: \n",
    "    # Check if eyes open or eyes closed need to be computed\n",
    "    EO_bool = False if sub_id in no_eyes_open else True\n",
    "    if not EO_bool:\n",
    "        print(f\"Subject: {sub_id} missing eyes open data\")\n",
    "        break\n",
    "    \n",
    "    for save_stc_mat in [\n",
    "        False,\n",
    "        # True,\n",
    "        ]:    \n",
    "        for method in methods:\n",
    "            print(f\"Source Localization Method: {method}\")                          \n",
    "\n",
    "            # Paths\n",
    "            stc_path = (data_dir / f'Source Time Courses ({method}) (MAT)' \n",
    "                        if save_stc_mat \n",
    "                        else data_dir / f'Source Time Courses ({method}) 046')\n",
    "                           \n",
    "            EO_resting_save_path = stc_path / \"Eyes Open\"\n",
    "            EC_resting_save_path = stc_path / \"Eyes Closed\"\n",
    "            # zscored_epochs_save_path = stc_path / \"zscored_Epochs\" / time_win_path\n",
    "            zscored_epochs_save_path = stc_path / \"zscored_Epochs\" / time_win_path\n",
    "            save_paths = [EC_resting_save_path,EO_resting_save_path,zscored_epochs_save_path] \n",
    "            [os.makedirs(path) for path in save_paths if not os.path.exists(path)]\n",
    "            \n",
    "            # No resting if exporting to MAT\n",
    "            if save_stc_mat:\n",
    "                Epochs_bool = True\n",
    "                EC_bool = False\n",
    "                EO_bool = False\n",
    "            else:\n",
    "                Epochs_bool = True\n",
    "\n",
    "            # Compute source localization for subject and save \n",
    "            label_ts_All_Conds, sub_id_if_nan = sl.to_source(sub_id,\n",
    "                                                             processed_data_path,\n",
    "                                                             zscored_epochs_save_path,\n",
    "                                                             EC_resting_save_path,\n",
    "                                                             EO_resting_save_path,\n",
    "                                                             roi_names,\n",
    "                                                             times_tup,\n",
    "                                                             method=method,\n",
    "                                                             return_zepochs= Epochs_bool,\n",
    "                                                             return_EC_resting = False,\n",
    "                                                             return_EO_resting = EO_bool,\n",
    "                                                             average_dipoles=average_dipoles,\n",
    "                                                             save_stc_mat=save_stc_mat,\n",
    "                                                             save_inv=save_inv,)\n",
    "            utils.clear_display()\n",
    "            \n",
    "            # add nan subjects to list if not None\n",
    "            if sub_id_if_nan is not None:\n",
    "                nan_subjects.append(sub_id_if_nan)"
   ]
  },
  {
   "cell_type": "code",
   "execution_count": null,
   "id": "e75e4bfb",
   "metadata": {},
   "outputs": [],
   "source": [
    "nan_subjects"
   ]
  },
  {
   "cell_type": "code",
   "execution_count": null,
   "id": "bfabe1dd",
   "metadata": {},
   "outputs": [],
   "source": []
  }
 ],
 "metadata": {
  "kernelspec": {
   "display_name": "mne",
   "language": "python",
   "name": "mne"
  },
  "language_info": {
   "codemirror_mode": {
    "name": "ipython",
    "version": 3
   },
   "file_extension": ".py",
   "mimetype": "text/x-python",
   "name": "python",
   "nbconvert_exporter": "python",
   "pygments_lexer": "ipython3",
   "version": "3.11.7"
  }
 },
 "nbformat": 4,
 "nbformat_minor": 5
}
