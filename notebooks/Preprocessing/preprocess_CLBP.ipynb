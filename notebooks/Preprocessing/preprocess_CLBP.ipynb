{
 "cells": [
  {
   "cell_type": "markdown",
   "id": "2947c985-edb4-4e37-ac38-e2abc335d541",
   "metadata": {
    "tags": []
   },
   "source": [
    "# Turn raw EEG data into processed (epochs,eyes open, eyes closed, and noise) segments\n",
    "#### Input: *.edf with recording data and the .csv containing timestamps for resting recording\n",
    "####  Output: *-preprocessed-epo.fif, *-resting_EC-raw.fif, *resting_EO-raw.fif, *-noise_EO-raw.fif"
   ]
  },
  {
   "cell_type": "code",
   "execution_count": 1,
   "id": "93bc0409-9fd5-479d-8dde-25a747c13efe",
   "metadata": {
    "scrolled": true,
    "tags": []
   },
   "outputs": [
    {
     "name": "stdout",
     "output_type": "stream",
     "text": [
      "0 files missing from root.txt in /home/wanglab/mne_data/MNE-fsaverage-data\n",
      "0 files missing from bem.txt in /home/wanglab/mne_data/MNE-fsaverage-data/fsaverage\n"
     ]
    }
   ],
   "source": [
    "import os\n",
    "import mne\n",
    "import pandas as pd\n",
    "from pathlib import Path\n",
    "import sys\n",
    "sys.path.append('/home/wanglab/Documents/George Kenefati/Code/eeg_toolkit/')\n",
    "# sys.path.append('/media/sb10flpc002/08e63286-43ce-4f61-9491-1ed048c96f20/Rachel Wu/eeg-projects/Code/eeg_toolkit/')\n",
    "from eeg_toolkit import utils, preprocess, source_localization"
   ]
  },
  {
   "cell_type": "code",
   "execution_count": 2,
   "id": "842b367f-9d3c-4436-868f-6fb7ffe7b719",
   "metadata": {},
   "outputs": [
    {
     "name": "stdout",
     "output_type": "stream",
     "text": [
      "[-2.5,0.0,2.5]\n"
     ]
    }
   ],
   "source": [
    "# Settings\n",
    "times_tup,time_win_path = preprocess.get_time_window(5)\n",
    "\n",
    "# Read in data\n",
    "data_dir = Path('../../Data/')\n",
    "data_path = data_dir / 'EEG DATA/'\n",
    "processed_data_path = data_dir / 'Processed Data/'\n",
    "csv_path = data_dir / 'Eyes Timestamps/'\n",
    "epo_path = processed_data_path \n",
    "save_path_resting = processed_data_path\n",
    "\n",
    "save_paths=[save_path_resting,]\n",
    "[os.makedirs(path, exist_ok=True) for path in save_paths];"
   ]
  },
  {
   "cell_type": "code",
   "execution_count": 8,
   "id": "0b4ef894",
   "metadata": {},
   "outputs": [],
   "source": [
    "# All CP and HC subs\n",
    "sub_ids_CP = [  \n",
    "    '018',  \n",
    "    '020',  \n",
    "    '021',  \n",
    "    '027',  \n",
    "    '031',  \n",
    "    '032',  \n",
    "    '033',  \n",
    "    '035',  \n",
    "    '036',  \n",
    "    '037',  \n",
    "    '038',  \n",
    "    '040',  \n",
    "    '043',  \n",
    "    '044',  \n",
    "    '048',  \n",
    "    '049',  \n",
    "    '050',  \n",
    "    '057',  \n",
    "    '059',\n",
    "]\n",
    "\n",
    "sub_ids_HC = [\n",
    "    'C10',  \n",
    "    'C11',  \n",
    "    'C12',  \n",
    "    'C13',  \n",
    "    'C14',  \n",
    "    'C15',  \n",
    "    'C16',  \n",
    "    'C17',  \n",
    "    'C18',  \n",
    "    'C19',  \n",
    "    'C2.',  \n",
    "    'C24',  \n",
    "    'C25',  \n",
    "    'C26',  \n",
    "    'C27',  \n",
    "    'C3.',  \n",
    "    'C6.',  \n",
    "    'C7.',  \n",
    "    'C9.'   \n",
    "]\n",
    "\n",
    "# CP Subs with widespread pain\n",
    "sub_ids_WSP = [\n",
    "    '018',\n",
    "    '022',\n",
    "    '024',\n",
    "    '031',\n",
    "    '032',\n",
    "    '034',\n",
    "    '036',\n",
    "    '039',\n",
    "    '040',\n",
    "    '045',\n",
    "    '046',\n",
    "    '052',\n",
    "]\n",
    "\n",
    "# CP Subs with localized pain\n",
    "sub_ids_LP = [  \n",
    "    '020',  \n",
    "    '021',  \n",
    "    '023',  \n",
    "    '029',  \n",
    "    '031',  \n",
    "    '037',  \n",
    "    '041',  \n",
    "    '042',  \n",
    "    '048',  \n",
    "    '049',  \n",
    "    '050',  \n",
    "    '056'  \n",
    "]  \n",
    "\n",
    "sub_ids = sub_ids_CP + sub_ids_HC + sub_ids_WSP + sub_ids_LP\n",
    "\n",
    "# keep unique only\n",
    "sub_ids = list(set(sub_ids))"
   ]
  },
  {
   "cell_type": "code",
   "execution_count": 4,
   "id": "7c3a8fdb-dbfa-42b6-907d-88061fab5ea5",
   "metadata": {},
   "outputs": [
    {
     "name": "stdout",
     "output_type": "stream",
     "text": [
      "Chronics: 43\n",
      "Controls: 19\n",
      "Total: 62\n"
     ]
    }
   ],
   "source": [
    "print(f\"Chronics: {len([el for el in sub_ids if el.startswith('0')])}\")\n",
    "print(f\"Controls: {len([el for el in sub_ids if el.startswith('C')])}\")\n",
    "print(f\"Total: {len(sub_ids)}\")"
   ]
  },
  {
   "cell_type": "code",
   "execution_count": 5,
   "id": "eb332a88",
   "metadata": {},
   "outputs": [],
   "source": [
    "# Include noise? if so EO is 3 minutes long. If not, EO is 5 minutes long\n",
    "include_noise = False\n",
    "\n",
    "if include_noise:\n",
    "    save_path = processed_data_path\n",
    "else:\n",
    "    save_path = processed_data_path / '5min'\n",
    "    os.makedirs(save_path, exist_ok=True)"
   ]
  },
  {
   "cell_type": "markdown",
   "id": "81a7a9f3",
   "metadata": {},
   "source": [
    "### Run just the 5 min resting crop"
   ]
  },
  {
   "cell_type": "code",
   "execution_count": 10,
   "id": "48667825",
   "metadata": {},
   "outputs": [
    {
     "name": "stdout",
     "output_type": "stream",
     "text": [
      "057 already processed\n",
      "040 already processed\n",
      "046 already processed\n",
      "031 already processed\n",
      "042 already processed\n",
      "043 already processed\n",
      "C9. already processed\n",
      "C11 already processed\n",
      "C27 already processed\n",
      "024 already processed\n",
      "049 already processed\n",
      "029 already processed\n",
      "056 already processed\n",
      "027 already processed\n",
      "C17 already processed\n",
      "038 already processed\n",
      "C25 already processed\n",
      "C19 already processed\n",
      "052 already processed\n",
      "044 already processed\n",
      "C26 already processed\n",
      "039 already processed\n",
      "023 already processed\n",
      "050 already processed\n",
      "034 already processed\n",
      "C7. already processed\n",
      "035 already processed\n",
      "C13 already processed\n",
      "C2. already processed\n",
      "022 already processed\n",
      "C18 already processed\n",
      "C3. already processed\n",
      "C12 already processed\n",
      "021 already processed\n",
      "C14 already processed\n",
      "C15 already processed\n",
      "C6. already processed\n",
      "020 already processed\n",
      "041 already processed\n",
      "C24 already processed\n",
      "C16 already processed\n",
      "037 already processed\n",
      "045 already processed\n",
      "036 already processed\n",
      "033 already processed\n",
      "032 already processed\n",
      "C10 already processed\n",
      "059 already processed\n",
      "018 already processed\n",
      "048 already processed\n"
     ]
    }
   ],
   "source": [
    "for sub_id in sub_ids:\n",
    "    # Load raw\n",
    "    raw = mne.io.read_raw_fif(epo_path / f'{sub_id}_preprocessed-raw.fif', preload=True)\n",
    "\n",
    "    # Preprocess continuous to eyes open, noise calibration, and eyes closed\n",
    "\n",
    "    # Check if file already exists\n",
    "    if os.path.isfile(save_path / f'{sub_id}_eyes_open-raw.fif'):\n",
    "        print(f\"{sub_id} already processed\")\n",
    "        continue\n",
    "    \n",
    "    _, _, _, = preprocess.get_cropped_resting_EEGs(sub_id, \n",
    "                                                    raw,\n",
    "                                                    csv_path, \n",
    "                                                    save_path, \n",
    "                                                    include_noise=include_noise)"
   ]
  },
  {
   "cell_type": "code",
   "execution_count": 7,
   "id": "0b27ddca-2548-4884-9d57-42ea6d494d76",
   "metadata": {},
   "outputs": [
    {
     "name": "stdout",
     "output_type": "stream",
     "text": [
      "018\n",
      "resampling data from 1000.0 Hz to 400 Hz...\n"
     ]
    },
    {
     "ename": "KeyboardInterrupt",
     "evalue": "",
     "output_type": "error",
     "traceback": [
      "\u001b[0;31m---------------------------------------------------------------------------\u001b[0m",
      "\u001b[0;31mKeyboardInterrupt\u001b[0m                         Traceback (most recent call last)",
      "Cell \u001b[0;32mIn[7], line 3\u001b[0m\n\u001b[1;32m      1\u001b[0m \u001b[38;5;28;01mfor\u001b[39;00m sub_id \u001b[38;5;129;01min\u001b[39;00m sub_ids:\n\u001b[1;32m      2\u001b[0m     \u001b[38;5;66;03m# Preprocess continuous to eyes open, noise calibration, and eyes closed\u001b[39;00m\n\u001b[0;32m----> 3\u001b[0m     raw, eyes_closed, noise_segment, eyes_open \u001b[38;5;241m=\u001b[39m \u001b[43mpreprocess\u001b[49m\u001b[38;5;241;43m.\u001b[39;49m\u001b[43mto_raw\u001b[49m\u001b[43m(\u001b[49m\u001b[43mdata_path\u001b[49m\u001b[43m,\u001b[49m\n\u001b[1;32m      4\u001b[0m \u001b[43m                                                                   \u001b[49m\u001b[43msub_id\u001b[49m\u001b[43m,\u001b[49m\n\u001b[1;32m      5\u001b[0m \u001b[43m                                                                   \u001b[49m\u001b[43msave_path\u001b[49m\u001b[38;5;241;43m=\u001b[39;49m\u001b[43msave_path\u001b[49m\u001b[43m,\u001b[49m\n\u001b[1;32m      6\u001b[0m \u001b[43m                                                                   \u001b[49m\u001b[43mcsv_path\u001b[49m\u001b[38;5;241;43m=\u001b[39;49m\u001b[43mcsv_path\u001b[49m\u001b[43m,\u001b[49m\n\u001b[1;32m      7\u001b[0m \u001b[43m                                                                   \u001b[49m\u001b[43minclude_noise\u001b[49m\u001b[38;5;241;43m=\u001b[39;49m\u001b[43minclude_noise\u001b[49m\u001b[43m)\u001b[49m\n\u001b[1;32m      8\u001b[0m     \u001b[38;5;66;03m# raw = mne.io.read_raw_fif(epo_path / f'{sub_id}_preprocessed-raw.fif', preload=True)\u001b[39;00m\n\u001b[1;32m     10\u001b[0m     stim_epochs \u001b[38;5;241m=\u001b[39m mne\u001b[38;5;241m.\u001b[39mread_epochs(epo_path \u001b[38;5;241m/\u001b[39m \u001b[38;5;124mf\u001b[39m\u001b[38;5;124m'\u001b[39m\u001b[38;5;132;01m{\u001b[39;00msub_id\u001b[38;5;132;01m}\u001b[39;00m\u001b[38;5;124m_preprocessed-epo.fif\u001b[39m\u001b[38;5;124m'\u001b[39m)\n",
      "File \u001b[0;32m~/Documents/George Kenefati/Code/eeg_toolkit/eeg_toolkit/preprocess.py:338\u001b[0m, in \u001b[0;36mto_raw\u001b[0;34m(data_path, sub_id, save_path, csv_path, include_noise)\u001b[0m\n\u001b[1;32m    334\u001b[0m \u001b[38;5;66;03m# resample data to decrease file size\u001b[39;00m\n\u001b[1;32m    335\u001b[0m \u001b[38;5;28mprint\u001b[39m(\n\u001b[1;32m    336\u001b[0m     \u001b[38;5;124mf\u001b[39m\u001b[38;5;124m\"\u001b[39m\u001b[38;5;132;01m{\u001b[39;00msub_id\u001b[38;5;132;01m}\u001b[39;00m\u001b[38;5;130;01m\\n\u001b[39;00m\u001b[38;5;124mresampling data from \u001b[39m\u001b[38;5;132;01m{\u001b[39;00mraw\u001b[38;5;241m.\u001b[39minfo[\u001b[38;5;124m'\u001b[39m\u001b[38;5;124msfreq\u001b[39m\u001b[38;5;124m'\u001b[39m]\u001b[38;5;132;01m}\u001b[39;00m\u001b[38;5;124m Hz to \u001b[39m\u001b[38;5;132;01m{\u001b[39;00mRESAMPLE_FREQ\u001b[38;5;132;01m}\u001b[39;00m\u001b[38;5;124m Hz...\u001b[39m\u001b[38;5;124m\"\u001b[39m\n\u001b[1;32m    337\u001b[0m )\n\u001b[0;32m--> 338\u001b[0m \u001b[43mraw\u001b[49m\u001b[38;5;241;43m.\u001b[39;49m\u001b[43mresample\u001b[49m\u001b[43m(\u001b[49m\u001b[43mRESAMPLE_FREQ\u001b[49m\u001b[43m,\u001b[49m\u001b[43m \u001b[49m\u001b[43mnpad\u001b[49m\u001b[38;5;241;43m=\u001b[39;49m\u001b[38;5;124;43m\"\u001b[39;49m\u001b[38;5;124;43mauto\u001b[39;49m\u001b[38;5;124;43m\"\u001b[39;49m\u001b[43m)\u001b[49m\n\u001b[1;32m    339\u001b[0m clear_display()\n\u001b[1;32m    341\u001b[0m \u001b[38;5;66;03m# find bad channels automatically\u001b[39;00m\n",
      "File \u001b[0;32m<decorator-gen-237>:12\u001b[0m, in \u001b[0;36mresample\u001b[0;34m(self, sfreq, npad, window, stim_picks, n_jobs, events, pad, verbose)\u001b[0m\n",
      "File \u001b[0;32m~/mambaforge/envs/mne/lib/python3.11/site-packages/mne/io/base.py:1382\u001b[0m, in \u001b[0;36mBaseRaw.resample\u001b[0;34m(self, sfreq, npad, window, stim_picks, n_jobs, events, pad, verbose)\u001b[0m\n\u001b[1;32m   1380\u001b[0m \u001b[38;5;28;01mif\u001b[39;00m \u001b[38;5;28mself\u001b[39m\u001b[38;5;241m.\u001b[39mpreload:\n\u001b[1;32m   1381\u001b[0m     data_chunk \u001b[38;5;241m=\u001b[39m \u001b[38;5;28mself\u001b[39m\u001b[38;5;241m.\u001b[39m_data[:, offsets[ri] : offsets[ri \u001b[38;5;241m+\u001b[39m \u001b[38;5;241m1\u001b[39m]]\n\u001b[0;32m-> 1382\u001b[0m     new_data[:, this_sl] \u001b[38;5;241m=\u001b[39m \u001b[43mresample\u001b[49m\u001b[43m(\u001b[49m\u001b[43mdata_chunk\u001b[49m\u001b[43m,\u001b[49m\u001b[43m \u001b[49m\u001b[38;5;241;43m*\u001b[39;49m\u001b[38;5;241;43m*\u001b[39;49m\u001b[43mkwargs\u001b[49m\u001b[43m)\u001b[49m\n\u001b[1;32m   1383\u001b[0m     \u001b[38;5;66;03m# In empirical testing, it was faster to resample all channels\u001b[39;00m\n\u001b[1;32m   1384\u001b[0m     \u001b[38;5;66;03m# (above) and then replace the stim channels than it was to\u001b[39;00m\n\u001b[1;32m   1385\u001b[0m     \u001b[38;5;66;03m# only resample the proper subset of channels and then use\u001b[39;00m\n\u001b[1;32m   1386\u001b[0m     \u001b[38;5;66;03m# np.insert() to restore the stims.\u001b[39;00m\n\u001b[1;32m   1387\u001b[0m     \u001b[38;5;28;01mif\u001b[39;00m \u001b[38;5;28mlen\u001b[39m(stim_picks) \u001b[38;5;241m>\u001b[39m \u001b[38;5;241m0\u001b[39m:\n",
      "File \u001b[0;32m<decorator-gen-94>:12\u001b[0m, in \u001b[0;36mresample\u001b[0;34m(x, up, down, npad, axis, window, n_jobs, pad, verbose)\u001b[0m\n",
      "File \u001b[0;32m~/mambaforge/envs/mne/lib/python3.11/site-packages/mne/filter.py:2020\u001b[0m, in \u001b[0;36mresample\u001b[0;34m(***failed resolving arguments***)\u001b[0m\n\u001b[1;32m   2018\u001b[0m     y \u001b[38;5;241m=\u001b[39m np\u001b[38;5;241m.\u001b[39mzeros((\u001b[38;5;28mlen\u001b[39m(x_flat), new_len \u001b[38;5;241m-\u001b[39m to_removes\u001b[38;5;241m.\u001b[39msum()), dtype\u001b[38;5;241m=\u001b[39mx\u001b[38;5;241m.\u001b[39mdtype)\n\u001b[1;32m   2019\u001b[0m     \u001b[38;5;28;01mfor\u001b[39;00m xi, x_ \u001b[38;5;129;01min\u001b[39;00m \u001b[38;5;28menumerate\u001b[39m(x_flat):\n\u001b[0;32m-> 2020\u001b[0m         y[xi] \u001b[38;5;241m=\u001b[39m \u001b[43m_fft_resample\u001b[49m\u001b[43m(\u001b[49m\u001b[43mx_\u001b[49m\u001b[43m,\u001b[49m\u001b[43m \u001b[49m\u001b[43mnew_len\u001b[49m\u001b[43m,\u001b[49m\u001b[43m \u001b[49m\u001b[43mnpads\u001b[49m\u001b[43m,\u001b[49m\u001b[43m \u001b[49m\u001b[43mto_removes\u001b[49m\u001b[43m,\u001b[49m\u001b[43m \u001b[49m\u001b[43mcuda_dict\u001b[49m\u001b[43m,\u001b[49m\u001b[43m \u001b[49m\u001b[43mpad\u001b[49m\u001b[43m)\u001b[49m\n\u001b[1;32m   2021\u001b[0m \u001b[38;5;28;01melse\u001b[39;00m:\n\u001b[1;32m   2022\u001b[0m     y \u001b[38;5;241m=\u001b[39m parallel(\n\u001b[1;32m   2023\u001b[0m         p_fun(x_, new_len, npads, to_removes, cuda_dict, pad) \u001b[38;5;28;01mfor\u001b[39;00m x_ \u001b[38;5;129;01min\u001b[39;00m x_flat\n\u001b[1;32m   2024\u001b[0m     )\n",
      "File \u001b[0;32m~/mambaforge/envs/mne/lib/python3.11/site-packages/mne/cuda.py:351\u001b[0m, in \u001b[0;36m_fft_resample\u001b[0;34m(x, new_len, npads, to_removes, cuda_dict, pad)\u001b[0m\n\u001b[1;32m    349\u001b[0m shorter \u001b[38;5;241m=\u001b[39m new_len \u001b[38;5;241m<\u001b[39m old_len\n\u001b[1;32m    350\u001b[0m use_len \u001b[38;5;241m=\u001b[39m new_len \u001b[38;5;28;01mif\u001b[39;00m shorter \u001b[38;5;28;01melse\u001b[39;00m old_len\n\u001b[0;32m--> 351\u001b[0m x_fft \u001b[38;5;241m=\u001b[39m \u001b[43mcuda_dict\u001b[49m\u001b[43m[\u001b[49m\u001b[38;5;124;43m\"\u001b[39;49m\u001b[38;5;124;43mrfft\u001b[39;49m\u001b[38;5;124;43m\"\u001b[39;49m\u001b[43m]\u001b[49m\u001b[43m(\u001b[49m\u001b[43mx\u001b[49m\u001b[43m,\u001b[49m\u001b[43m \u001b[49m\u001b[38;5;28;43;01mNone\u001b[39;49;00m\u001b[43m)\u001b[49m\n\u001b[1;32m    352\u001b[0m \u001b[38;5;28;01mif\u001b[39;00m use_len \u001b[38;5;241m%\u001b[39m \u001b[38;5;241m2\u001b[39m \u001b[38;5;241m==\u001b[39m \u001b[38;5;241m0\u001b[39m:\n\u001b[1;32m    353\u001b[0m     nyq \u001b[38;5;241m=\u001b[39m use_len \u001b[38;5;241m/\u001b[39m\u001b[38;5;241m/\u001b[39m \u001b[38;5;241m2\u001b[39m\n",
      "File \u001b[0;32m~/mambaforge/envs/mne/lib/python3.11/site-packages/scipy/fft/_backend.py:25\u001b[0m, in \u001b[0;36m_ScipyBackend.__ua_function__\u001b[0;34m(method, args, kwargs)\u001b[0m\n\u001b[1;32m     23\u001b[0m \u001b[38;5;28;01mif\u001b[39;00m fn \u001b[38;5;129;01mis\u001b[39;00m \u001b[38;5;28;01mNone\u001b[39;00m:\n\u001b[1;32m     24\u001b[0m     \u001b[38;5;28;01mreturn\u001b[39;00m \u001b[38;5;28mNotImplemented\u001b[39m\n\u001b[0;32m---> 25\u001b[0m \u001b[38;5;28;01mreturn\u001b[39;00m \u001b[43mfn\u001b[49m\u001b[43m(\u001b[49m\u001b[38;5;241;43m*\u001b[39;49m\u001b[43margs\u001b[49m\u001b[43m,\u001b[49m\u001b[43m \u001b[49m\u001b[38;5;241;43m*\u001b[39;49m\u001b[38;5;241;43m*\u001b[39;49m\u001b[43mkwargs\u001b[49m\u001b[43m)\u001b[49m\n",
      "File \u001b[0;32m~/mambaforge/envs/mne/lib/python3.11/site-packages/scipy/fft/_pocketfft/basic.py:62\u001b[0m, in \u001b[0;36mr2c\u001b[0;34m(forward, x, n, axis, norm, overwrite_x, workers, plan)\u001b[0m\n\u001b[1;32m     58\u001b[0m     \u001b[38;5;28;01mraise\u001b[39;00m \u001b[38;5;167;01mValueError\u001b[39;00m(\u001b[38;5;124m\"\u001b[39m\u001b[38;5;124minvalid number of data points (\u001b[39m\u001b[38;5;132;01m{}\u001b[39;00m\u001b[38;5;124m) specified\u001b[39m\u001b[38;5;124m\"\u001b[39m\n\u001b[1;32m     59\u001b[0m                      \u001b[38;5;241m.\u001b[39mformat(tmp\u001b[38;5;241m.\u001b[39mshape[axis]))\n\u001b[1;32m     61\u001b[0m \u001b[38;5;66;03m# Note: overwrite_x is not utilised\u001b[39;00m\n\u001b[0;32m---> 62\u001b[0m \u001b[38;5;28;01mreturn\u001b[39;00m \u001b[43mpfft\u001b[49m\u001b[38;5;241;43m.\u001b[39;49m\u001b[43mr2c\u001b[49m\u001b[43m(\u001b[49m\u001b[43mtmp\u001b[49m\u001b[43m,\u001b[49m\u001b[43m \u001b[49m\u001b[43m(\u001b[49m\u001b[43maxis\u001b[49m\u001b[43m,\u001b[49m\u001b[43m)\u001b[49m\u001b[43m,\u001b[49m\u001b[43m \u001b[49m\u001b[43mforward\u001b[49m\u001b[43m,\u001b[49m\u001b[43m \u001b[49m\u001b[43mnorm\u001b[49m\u001b[43m,\u001b[49m\u001b[43m \u001b[49m\u001b[38;5;28;43;01mNone\u001b[39;49;00m\u001b[43m,\u001b[49m\u001b[43m \u001b[49m\u001b[43mworkers\u001b[49m\u001b[43m)\u001b[49m\n",
      "\u001b[0;31mKeyboardInterrupt\u001b[0m: "
     ]
    }
   ],
   "source": [
    "for sub_id in sub_ids:\n",
    "    # Preprocess continuous to eyes open, noise calibration, and eyes closed\n",
    "    raw, eyes_closed, noise_segment, eyes_open = preprocess.to_raw(data_path,\n",
    "                                                                   sub_id,\n",
    "                                                                   save_path=save_path,\n",
    "                                                                   csv_path=csv_path,\n",
    "                                                                   include_noise=include_noise)\n",
    "    # raw = mne.io.read_raw_fif(epo_path / f'{sub_id}_preprocessed-raw.fif', preload=True)\n",
    "    \n",
    "    stim_epochs = mne.read_epochs(epo_path / f'{sub_id}_preprocessed-epo.fif')\n",
    "    # stim_epochs, epo_times, stim_labels, pain_ratings = preprocess.to_epo(raw, sub_id, data_path, save_path=processed_data_path) \n",
    "    \n",
    "    # check epochs for duration in seconds\n",
    "    dur = stim_epochs.times[-1] - stim_epochs.times[0]\n",
    "    print(f\"{sub_id} duration: {dur}\")\n",
    "    if dur < 5.0:\n",
    "        print(f\"{sub_id} too short\")\n",
    "        break"
   ]
  },
  {
   "cell_type": "code",
   "execution_count": null,
   "id": "c8edf5ba",
   "metadata": {},
   "outputs": [],
   "source": []
  }
 ],
 "metadata": {
  "kernelspec": {
   "display_name": "Python 3",
   "language": "python",
   "name": "python3"
  },
  "language_info": {
   "codemirror_mode": {
    "name": "ipython",
    "version": 3
   },
   "file_extension": ".py",
   "mimetype": "text/x-python",
   "name": "python",
   "nbconvert_exporter": "python",
   "pygments_lexer": "ipython3",
   "version": "3.11.7"
  }
 },
 "nbformat": 4,
 "nbformat_minor": 5
}
